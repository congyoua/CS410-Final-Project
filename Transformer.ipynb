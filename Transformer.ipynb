{
 "cells": [
  {
   "cell_type": "code",
   "execution_count": 67,
   "id": "9c6992b6-656a-46dc-a8ac-93a978e9ba19",
   "metadata": {},
   "outputs": [],
   "source": [
    "import pandas as pd\n",
    "import seaborn as sns\n",
    "import os\n",
    "import requests\n",
    "import numpy as np\n",
    "import matplotlib.pyplot as plt\n",
    "from sklearn.model_selection import train_test_split\n",
    "\n",
    "import torch\n",
    "from transformers import DistilBertTokenizer\n",
    "from transformers.data.processors.utils import InputFeatures\n",
    "from torch.utils.data import Dataset\n",
    "\n",
    "pd.options.display.max_columns = 100\n",
    "%matplotlib inline"
   ]
  },
  {
   "cell_type": "markdown",
   "id": "0ea05e83",
   "metadata": {},
   "source": [
    "# Data Reading"
   ]
  },
  {
   "cell_type": "code",
   "execution_count": 68,
   "id": "150211a7",
   "metadata": {},
   "outputs": [],
   "source": [
    "def download_file(url):\n",
    "    filename = url.split('/')[-1]\n",
    "    if not os.path.exists(filename):\n",
    "        response = requests.get(url)\n",
    "        open(filename, 'wb').write(response.content)\n",
    "        print(f'{filename} downloaded')\n",
    "    else:\n",
    "        print(f'{filename} already exists')"
   ]
  },
  {
   "cell_type": "code",
   "execution_count": 69,
   "id": "2b2470ad",
   "metadata": {},
   "outputs": [
    {
     "name": "stdout",
     "output_type": "stream",
     "text": [
      "labeled_data.csv already exists\n"
     ]
    }
   ],
   "source": [
    "download_file('https://github.com/t-davidson/hate-speech-and-offensive-language/blob/master/data/labeled_data.csv')"
   ]
  },
  {
   "cell_type": "code",
   "execution_count": 70,
   "id": "623e1a8e-a1a9-4f57-96c5-dc244af8fcfb",
   "metadata": {},
   "outputs": [
    {
     "name": "stdout",
     "output_type": "stream",
     "text": [
      "[Train] the dataframe shape: (24783, 2)\n"
     ]
    },
    {
     "data": {
      "text/html": [
       "<div>\n",
       "<style scoped>\n",
       "    .dataframe tbody tr th:only-of-type {\n",
       "        vertical-align: middle;\n",
       "    }\n",
       "\n",
       "    .dataframe tbody tr th {\n",
       "        vertical-align: top;\n",
       "    }\n",
       "\n",
       "    .dataframe thead th {\n",
       "        text-align: right;\n",
       "    }\n",
       "</style>\n",
       "<table border=\"1\" class=\"dataframe\">\n",
       "  <thead>\n",
       "    <tr style=\"text-align: right;\">\n",
       "      <th></th>\n",
       "      <th>class</th>\n",
       "      <th>tweet</th>\n",
       "    </tr>\n",
       "  </thead>\n",
       "  <tbody>\n",
       "    <tr>\n",
       "      <th>0</th>\n",
       "      <td>2</td>\n",
       "      <td>!!! RT @mayasolovely: As a woman you shouldn't...</td>\n",
       "    </tr>\n",
       "    <tr>\n",
       "      <th>1</th>\n",
       "      <td>1</td>\n",
       "      <td>!!!!! RT @mleew17: boy dats cold...tyga dwn ba...</td>\n",
       "    </tr>\n",
       "    <tr>\n",
       "      <th>2</th>\n",
       "      <td>1</td>\n",
       "      <td>!!!!!!! RT @UrKindOfBrand Dawg!!!! RT @80sbaby...</td>\n",
       "    </tr>\n",
       "    <tr>\n",
       "      <th>3</th>\n",
       "      <td>1</td>\n",
       "      <td>!!!!!!!!! RT @C_G_Anderson: @viva_based she lo...</td>\n",
       "    </tr>\n",
       "    <tr>\n",
       "      <th>4</th>\n",
       "      <td>1</td>\n",
       "      <td>!!!!!!!!!!!!! RT @ShenikaRoberts: The shit you...</td>\n",
       "    </tr>\n",
       "    <tr>\n",
       "      <th>...</th>\n",
       "      <td>...</td>\n",
       "      <td>...</td>\n",
       "    </tr>\n",
       "    <tr>\n",
       "      <th>24778</th>\n",
       "      <td>1</td>\n",
       "      <td>you's a muthaf***in lie &amp;#8220;@LifeAsKing: @2...</td>\n",
       "    </tr>\n",
       "    <tr>\n",
       "      <th>24779</th>\n",
       "      <td>2</td>\n",
       "      <td>you've gone and broke the wrong heart baby, an...</td>\n",
       "    </tr>\n",
       "    <tr>\n",
       "      <th>24780</th>\n",
       "      <td>1</td>\n",
       "      <td>young buck wanna eat!!.. dat nigguh like I ain...</td>\n",
       "    </tr>\n",
       "    <tr>\n",
       "      <th>24781</th>\n",
       "      <td>1</td>\n",
       "      <td>youu got wild bitches tellin you lies</td>\n",
       "    </tr>\n",
       "    <tr>\n",
       "      <th>24782</th>\n",
       "      <td>2</td>\n",
       "      <td>~~Ruffled | Ntac Eileen Dahlia - Beautiful col...</td>\n",
       "    </tr>\n",
       "  </tbody>\n",
       "</table>\n",
       "<p>24783 rows × 2 columns</p>\n",
       "</div>"
      ],
      "text/plain": [
       "       class                                              tweet\n",
       "0          2  !!! RT @mayasolovely: As a woman you shouldn't...\n",
       "1          1  !!!!! RT @mleew17: boy dats cold...tyga dwn ba...\n",
       "2          1  !!!!!!! RT @UrKindOfBrand Dawg!!!! RT @80sbaby...\n",
       "3          1  !!!!!!!!! RT @C_G_Anderson: @viva_based she lo...\n",
       "4          1  !!!!!!!!!!!!! RT @ShenikaRoberts: The shit you...\n",
       "...      ...                                                ...\n",
       "24778      1  you's a muthaf***in lie &#8220;@LifeAsKing: @2...\n",
       "24779      2  you've gone and broke the wrong heart baby, an...\n",
       "24780      1  young buck wanna eat!!.. dat nigguh like I ain...\n",
       "24781      1              youu got wild bitches tellin you lies\n",
       "24782      2  ~~Ruffled | Ntac Eileen Dahlia - Beautiful col...\n",
       "\n",
       "[24783 rows x 2 columns]"
      ]
     },
     "execution_count": 70,
     "metadata": {},
     "output_type": "execute_result"
    }
   ],
   "source": [
    "df = pd.read_csv(\"labeled_data.csv\", usecols=[\"class\",\"tweet\"])\n",
    "print(f\"[Train] the dataframe shape: {df.shape}\")\n",
    "df"
   ]
  },
  {
   "cell_type": "markdown",
   "id": "43593c14",
   "metadata": {},
   "source": [
    "# Data Visualization"
   ]
  },
  {
   "cell_type": "code",
   "execution_count": 71,
   "id": "5de35d53-a1ae-4a3a-8a3f-8017cc80afd9",
   "metadata": {},
   "outputs": [
    {
     "name": "stdout",
     "output_type": "stream",
     "text": [
      "class\n",
      "1    19190\n",
      "2     4163\n",
      "0     1430\n",
      "Name: count, dtype: int64\n"
     ]
    },
    {
     "data": {
      "image/png": "[encoded data removed]",
      "text/plain": [
       "<Figure size 640x480 with 1 Axes>"
      ]
     },
     "metadata": {},
     "output_type": "display_data"
    }
   ],
   "source": [
    "print(df['class'].value_counts())\n",
    "\n",
    "x_labels = ['offensive_language', 'neither', 'hate_speech']\n",
    "plt.xticks(range(1, 4), x_labels)\n",
    "plt.bar(x=range(1,4), height=temp_df.to_list());\n"
   ]
  },
  {
   "cell_type": "markdown",
   "id": "096bef48",
   "metadata": {},
   "source": [
    "# Data Split"
   ]
  },
  {
   "cell_type": "code",
   "execution_count": 72,
   "id": "06ab6e21",
   "metadata": {},
   "outputs": [],
   "source": [
    "train, test = train_test_split(df, test_size=0.3, random_state=42, stratify=df['class'] )\n",
    "train, val = train_test_split(train, test_size=0.2, random_state=42, stratify=train['class'] )"
   ]
  },
  {
   "cell_type": "markdown",
   "id": "ae00ed6c",
   "metadata": {},
   "source": [
    "# Data transformation"
   ]
  },
  {
   "cell_type": "code",
   "execution_count": 73,
   "id": "5150b39b",
   "metadata": {},
   "outputs": [],
   "source": [
    "label_map = {0:\"hate_speech\", 1:\"offensive_language\", 2:\"neither\"}"
   ]
  },
  {
   "cell_type": "code",
   "execution_count": 74,
   "id": "cb5f0729",
   "metadata": {},
   "outputs": [],
   "source": [
    "# Use cuda if it's available\n",
    "if torch.cuda.is_available():      \n",
    "    device = torch.device(\"cuda\")\n",
    "else:\n",
    "    device = torch.device(\"cpu\")"
   ]
  },
  {
   "cell_type": "code",
   "execution_count": 75,
   "id": "b66fce1c",
   "metadata": {},
   "outputs": [],
   "source": [
    "# Preparing dataset for the distilBert model\n",
    "class ClassificationDataset(Dataset):\n",
    "    def __init__(self, text, target, label_map):\n",
    "        super(ClassificationDataset).__init__()\n",
    "        self.text = text\n",
    "        self.target = target\n",
    "        self.tokenizer = DistilBertTokenizer.from_pretrained(\"distilbert-base-uncased\")\n",
    "        self.max_len = 64\n",
    "        self.label_map = label_map\n",
    "      \n",
    "    def __len__(self):\n",
    "        return len(self.text)\n",
    "\n",
    "    def __getitem__(self,item):\n",
    "        text = str(self.text[item])\n",
    "        text = \" \".join(text.split())\n",
    "        \n",
    "        inputs = self.tokenizer(\n",
    "            text,\n",
    "            max_length=self.max_len,\n",
    "            padding='max_length',\n",
    "            truncation=True\n",
    "        )      \n",
    "        return InputFeatures(**inputs,label=self.label_map[self.target[item]])"
   ]
  },
  {
   "cell_type": "code",
   "execution_count": 76,
   "id": "e9d537a6",
   "metadata": {},
   "outputs": [],
   "source": [
    "train_dataset = ClassificationDataset(\n",
    "    train[\"tweet\"].to_list(),\n",
    "    train[\"class\"].to_list(),\n",
    "    label_map\n",
    ")\n",
    "val_dataset = ClassificationDataset(\n",
    "    val[\"tweet\"].to_list(),\n",
    "    val[\"class\"].to_list(),\n",
    "    label_map\n",
    ")\n",
    "test_dataset = ClassificationDataset(\n",
    "    test[\"tweet\"].to_list(),\n",
    "    test[\"class\"].to_list(),\n",
    "    label_map\n",
    ")"
   ]
  },
  {
   "cell_type": "markdown",
   "id": "fac1f7ce",
   "metadata": {},
   "source": [
    "# DistilBERT model"
   ]
  },
  {
   "cell_type": "code",
   "execution_count": null,
   "id": "0d1a6ae9",
   "metadata": {},
   "outputs": [],
   "source": [
    "class CustomClassificationModel(nn.Module):\n",
    "    def __init__(self):\n",
    "        super().__init__()\n",
    "        self.distilbert = DistilBertModel.from_pretrained('distilbert-base-uncased')\n",
    "        self.pre_classifier = nn.Linear(self.distilbert.config.dim, 128)\n",
    "        self.dropout = nn.Dropout(0.2)\n",
    "        self.classifier1 = nn.Linear(128, 64)\n",
    "        self.classifier2 = nn.Linear(64, 3)\n",
    "\n",
    "    def forward(self, input_ids, attention_mask=None, labels=None):\n",
    "        distilbert_output = self.distilbert(input_ids=input_ids, attention_mask=attention_mask)\n",
    "        hidden_state = distilbert_output[0]\n",
    "        out = hidden_state[:, 0]\n",
    "        out = self.pre_classifier(out)\n",
    "        out = nn.ReLU()(out)\n",
    "        out = self.dropout(out)\n",
    "        out = self.classifier1(out)\n",
    "        out = nn.ReLU()(out)\n",
    "        out = self.dropout(out)\n",
    "        logits = self.classifier2(out)\n",
    "        loss_fct = nn.CrossEntropyLoss()\n",
    "        loss = loss_fct(logits.view(-1, 5), labels.view(-1))\n",
    "        return (loss.mean(), logits)\n",
    "    \n",
    "model = CustomClassificationModel() \n",
    "#model = DistilBertForSequenceClassification.from_pretrained(\"distilbert-base-uncased\", num_labels=num_labels)"
   ]
  }
 ],
 "metadata": {
  "kernelspec": {
   "display_name": "Python 3 (ipykernel)",
   "language": "python",
   "name": "python3"
  },
  "language_info": {
   "codemirror_mode": {
    "name": "ipython",
    "version": 3
   },
   "file_extension": ".py",
   "mimetype": "text/x-python",
   "name": "python",
   "nbconvert_exporter": "python",
   "pygments_lexer": "ipython3",
   "version": "3.9.16"
  },
  "varInspector": {
   "cols": {
    "lenName": 16,
    "lenType": 16,
    "lenVar": 40
   },
   "kernels_config": {
    "python": {
     "delete_cmd_postfix": "",
     "delete_cmd_prefix": "del ",
     "library": "var_list.py",
     "varRefreshCmd": "print(var_dic_list())"
    },
    "r": {
     "delete_cmd_postfix": ") ",
     "delete_cmd_prefix": "rm(",
     "library": "var_list.r",
     "varRefreshCmd": "cat(var_dic_list()) "
    }
   },
   "types_to_exclude": [
    "module",
    "function",
    "builtin_function_or_method",
    "instance",
    "_Feature"
   ],
   "window_display": false
  }
 },
 "nbformat": 4,
 "nbformat_minor": 5
}
