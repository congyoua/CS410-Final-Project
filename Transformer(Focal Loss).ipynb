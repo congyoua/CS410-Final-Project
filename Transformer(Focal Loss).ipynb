{
 "cells": [
  {
   "cell_type": "code",
   "execution_count": 1,
   "id": "9c6992b6-656a-46dc-a8ac-93a978e9ba19",
   "metadata": {},
   "outputs": [],
   "source": [
    "import pandas as pd\n",
    "import seaborn as sns\n",
    "import os\n",
    "import requests\n",
    "import numpy as np\n",
    "import matplotlib.pyplot as plt\n",
    "from sklearn.model_selection import train_test_split\n",
    "from sklearn.metrics import accuracy_score, classification_report, confusion_matrix, f1_score, precision_score, recall_score, ConfusionMatrixDisplay\n",
    "import torch\n",
    "from transformers import DistilBertTokenizer\n",
    "from transformers.data.processors.utils import InputFeatures\n",
    "from transformers import AutoConfig, DistilBertForSequenceClassification, DistilBertModel, DistilBertTokenizer, DistilBertConfig, EarlyStoppingCallback, TrainingArguments, Trainer\n",
    "from torch.utils.data import Dataset\n",
    "import torch.nn as nn\n",
    "import torch.nn.functional as F\n",
    "\n",
    "\n",
    "pd.options.display.max_columns = 100\n",
    "%matplotlib inline"
   ]
  },
  {
   "cell_type": "markdown",
   "id": "0ea05e83",
   "metadata": {},
   "source": [
    "# Data Reading"
   ]
  },
  {
   "cell_type": "code",
   "execution_count": 2,
   "id": "150211a7",
   "metadata": {},
   "outputs": [],
   "source": [
    "def download_file(url):\n",
    "    filename = url.split('/')[-1]\n",
    "    if not os.path.exists(filename):\n",
    "        response = requests.get(url)\n",
    "        open(filename, 'wb').write(response.content)\n",
    "        print(f'{filename} downloaded')\n",
    "    else:\n",
    "        print(f'{filename} already exists')"
   ]
  },
  {
   "cell_type": "code",
   "execution_count": 3,
   "id": "2b2470ad",
   "metadata": {},
   "outputs": [
    {
     "name": "stdout",
     "output_type": "stream",
     "text": [
      "labeled_data.csv already exists\n"
     ]
    }
   ],
   "source": [
    "download_file('https://raw.githubusercontent.com/t-davidson/hate-speech-and-offensive-language/master/data/labeled_data.csv')"
   ]
  },
  {
   "cell_type": "code",
   "execution_count": 4,
   "id": "623e1a8e-a1a9-4f57-96c5-dc244af8fcfb",
   "metadata": {},
   "outputs": [
    {
     "name": "stdout",
     "output_type": "stream",
     "text": [
      "[Train] the dataframe shape: (24783, 2)\n"
     ]
    },
    {
     "data": {
      "text/html": [
       "<div>\n",
       "<style scoped>\n",
       "    .dataframe tbody tr th:only-of-type {\n",
       "        vertical-align: middle;\n",
       "    }\n",
       "\n",
       "    .dataframe tbody tr th {\n",
       "        vertical-align: top;\n",
       "    }\n",
       "\n",
       "    .dataframe thead th {\n",
       "        text-align: right;\n",
       "    }\n",
       "</style>\n",
       "<table border=\"1\" class=\"dataframe\">\n",
       "  <thead>\n",
       "    <tr style=\"text-align: right;\">\n",
       "      <th></th>\n",
       "      <th>class</th>\n",
       "      <th>tweet</th>\n",
       "    </tr>\n",
       "  </thead>\n",
       "  <tbody>\n",
       "    <tr>\n",
       "      <th>0</th>\n",
       "      <td>2</td>\n",
       "      <td>!!! RT @mayasolovely: As a woman you shouldn't...</td>\n",
       "    </tr>\n",
       "    <tr>\n",
       "      <th>1</th>\n",
       "      <td>1</td>\n",
       "      <td>!!!!! RT @mleew17: boy dats cold...tyga dwn ba...</td>\n",
       "    </tr>\n",
       "    <tr>\n",
       "      <th>2</th>\n",
       "      <td>1</td>\n",
       "      <td>!!!!!!! RT @UrKindOfBrand Dawg!!!! RT @80sbaby...</td>\n",
       "    </tr>\n",
       "    <tr>\n",
       "      <th>3</th>\n",
       "      <td>1</td>\n",
       "      <td>!!!!!!!!! RT @C_G_Anderson: @viva_based she lo...</td>\n",
       "    </tr>\n",
       "    <tr>\n",
       "      <th>4</th>\n",
       "      <td>1</td>\n",
       "      <td>!!!!!!!!!!!!! RT @ShenikaRoberts: The shit you...</td>\n",
       "    </tr>\n",
       "    <tr>\n",
       "      <th>...</th>\n",
       "      <td>...</td>\n",
       "      <td>...</td>\n",
       "    </tr>\n",
       "    <tr>\n",
       "      <th>24778</th>\n",
       "      <td>1</td>\n",
       "      <td>you's a muthaf***in lie &amp;#8220;@LifeAsKing: @2...</td>\n",
       "    </tr>\n",
       "    <tr>\n",
       "      <th>24779</th>\n",
       "      <td>2</td>\n",
       "      <td>you've gone and broke the wrong heart baby, an...</td>\n",
       "    </tr>\n",
       "    <tr>\n",
       "      <th>24780</th>\n",
       "      <td>1</td>\n",
       "      <td>young buck wanna eat!!.. dat nigguh like I ain...</td>\n",
       "    </tr>\n",
       "    <tr>\n",
       "      <th>24781</th>\n",
       "      <td>1</td>\n",
       "      <td>youu got wild bitches tellin you lies</td>\n",
       "    </tr>\n",
       "    <tr>\n",
       "      <th>24782</th>\n",
       "      <td>2</td>\n",
       "      <td>~~Ruffled | Ntac Eileen Dahlia - Beautiful col...</td>\n",
       "    </tr>\n",
       "  </tbody>\n",
       "</table>\n",
       "<p>24783 rows × 2 columns</p>\n",
       "</div>"
      ],
      "text/plain": [
       "       class                                              tweet\n",
       "0          2  !!! RT @mayasolovely: As a woman you shouldn't...\n",
       "1          1  !!!!! RT @mleew17: boy dats cold...tyga dwn ba...\n",
       "2          1  !!!!!!! RT @UrKindOfBrand Dawg!!!! RT @80sbaby...\n",
       "3          1  !!!!!!!!! RT @C_G_Anderson: @viva_based she lo...\n",
       "4          1  !!!!!!!!!!!!! RT @ShenikaRoberts: The shit you...\n",
       "...      ...                                                ...\n",
       "24778      1  you's a muthaf***in lie &#8220;@LifeAsKing: @2...\n",
       "24779      2  you've gone and broke the wrong heart baby, an...\n",
       "24780      1  young buck wanna eat!!.. dat nigguh like I ain...\n",
       "24781      1              youu got wild bitches tellin you lies\n",
       "24782      2  ~~Ruffled | Ntac Eileen Dahlia - Beautiful col...\n",
       "\n",
       "[24783 rows x 2 columns]"
      ]
     },
     "execution_count": 4,
     "metadata": {},
     "output_type": "execute_result"
    }
   ],
   "source": [
    "df = pd.read_csv(\"labeled_data.csv\", usecols=[\"class\",\"tweet\"])\n",
    "print(f\"[Train] the dataframe shape: {df.shape}\")\n",
    "df"
   ]
  },
  {
   "cell_type": "markdown",
   "id": "43593c14",
   "metadata": {},
   "source": [
    "# Data Visualization"
   ]
  },
  {
   "cell_type": "code",
   "execution_count": 5,
   "id": "5de35d53-a1ae-4a3a-8a3f-8017cc80afd9",
   "metadata": {},
   "outputs": [
    {
     "data": {
      "image/png": "[encoded data removed]",
      "text/plain": [
       "<Figure size 640x480 with 1 Axes>"
      ]
     },
     "metadata": {},
     "output_type": "display_data"
    }
   ],
   "source": [
    "temp_df = df['class'].value_counts().sort_index()\n",
    "x_labels = ['hate_speech','offensive_language', 'neither']\n",
    "plt.xticks(range(1, 4), x_labels)\n",
    "plt.bar(x=range(1,4), height=temp_df.to_list());"
   ]
  },
  {
   "cell_type": "markdown",
   "id": "096bef48",
   "metadata": {},
   "source": [
    "# Data Split"
   ]
  },
  {
   "cell_type": "code",
   "execution_count": 6,
   "id": "06ab6e21",
   "metadata": {},
   "outputs": [],
   "source": [
    "train, test = train_test_split(df, test_size=0.2, random_state=42, stratify=df['class'] )\n",
    "train, val = train_test_split(train, test_size=0.2, random_state=42, stratify=train['class'] )"
   ]
  },
  {
   "cell_type": "markdown",
   "id": "ae00ed6c",
   "metadata": {},
   "source": [
    "# Data transformation"
   ]
  },
  {
   "cell_type": "code",
   "execution_count": 7,
   "id": "cb5f0729",
   "metadata": {},
   "outputs": [],
   "source": [
    "# Use cuda if it's available\n",
    "if torch.cuda.is_available():      \n",
    "    device = torch.device(\"cuda\")\n",
    "else:\n",
    "    device = torch.device(\"cpu\")"
   ]
  },
  {
   "cell_type": "code",
   "execution_count": 8,
   "id": "b66fce1c",
   "metadata": {},
   "outputs": [],
   "source": [
    "# Preparing dataset for the distilBert model\n",
    "class ClassificationDataset(Dataset):\n",
    "    def __init__(self, text, target):\n",
    "        super(ClassificationDataset).__init__()\n",
    "        self.text = text\n",
    "        self.target = target\n",
    "        self.tokenizer = DistilBertTokenizer.from_pretrained(\"distilbert-base-uncased\")\n",
    "        self.max_len = 512\n",
    "      \n",
    "    def __len__(self):\n",
    "        return len(self.text)\n",
    "\n",
    "    def __getitem__(self,item):\n",
    "        text = str(self.text[item])\n",
    "        text = \" \".join(text.split())\n",
    "        \n",
    "        inputs = self.tokenizer(\n",
    "            text,\n",
    "            max_length=self.max_len,\n",
    "            padding='max_length',\n",
    "            truncation=True\n",
    "        )      \n",
    "        return InputFeatures(**inputs,label=self.target[item])"
   ]
  },
  {
   "cell_type": "code",
   "execution_count": 9,
   "id": "e9d537a6",
   "metadata": {},
   "outputs": [],
   "source": [
    "train_dataset = ClassificationDataset(\n",
    "    train[\"tweet\"].to_list(),\n",
    "    train[\"class\"].to_list()\n",
    ")\n",
    "val_dataset = ClassificationDataset(\n",
    "    val[\"tweet\"].to_list(),\n",
    "    val[\"class\"].to_list()\n",
    ")\n",
    "test_dataset = ClassificationDataset(\n",
    "    test[\"tweet\"].to_list(),\n",
    "    test[\"class\"].to_list()\n",
    ")"
   ]
  },
  {
   "cell_type": "markdown",
   "id": "fac1f7ce",
   "metadata": {},
   "source": [
    "# Model Building"
   ]
  },
  {
   "cell_type": "code",
   "execution_count": 10,
   "id": "87f20065",
   "metadata": {},
   "outputs": [],
   "source": [
    "# Modified version of the focal loss\n",
    "def softmax_focal_loss_with_regularization(inputs, targets, model, alpha = None, gamma = 2, reduction = \"none\", reg_type: str = \"l2\", reg_weight: float = 1e-3):\n",
    "    ce_loss = F.cross_entropy(inputs, targets, reduction=\"none\")\n",
    "    p = torch.exp(-ce_loss)\n",
    "    loss = ce_loss * ((1 - p) ** gamma)\n",
    "    \n",
    "    # Alpha weighting for different classes\n",
    "    if alpha is not None:\n",
    "        batch_size, num_classes = inputs.size()\n",
    "        class_mask = torch.zeros((batch_size, num_classes), device=inputs.device)\n",
    "        class_mask.scatter_(1, targets.unsqueeze(1), 1.)\n",
    "        alpha_t = torch.sum(alpha.to(inputs.device) * class_mask.to(inputs.device), dim=1)\n",
    "        loss = alpha_t * loss\n",
    "    \n",
    "    # L1/L2 regularization\n",
    "    reg_loss = 0\n",
    "    for param in model.parameters():\n",
    "        if reg_type == \"l1\":\n",
    "            reg_loss += torch.sum(torch.abs(param))\n",
    "        else:\n",
    "            reg_loss += torch.sum(param ** 2)\n",
    "    loss = loss + reg_weight * reg_loss\n",
    "\n",
    "    if reduction == \"none\":\n",
    "        pass\n",
    "    elif reduction == \"mean\":\n",
    "        loss = loss.mean()\n",
    "    elif reduction == \"sum\":\n",
    "        loss = loss.sum()\n",
    "    else:\n",
    "        raise ValueError(f\"Invalid Value for arg 'reduction': '{reduction} \\\\n Supported reduction modes: 'none', 'mean', 'sum'\")\n",
    "    \n",
    "    return loss"
   ]
  },
  {
   "cell_type": "code",
   "execution_count": 11,
   "id": "0d1a6ae9",
   "metadata": {},
   "outputs": [],
   "source": [
    "class CustomClassificationModel(nn.Module):\n",
    "    def __init__(self):\n",
    "        super().__init__()\n",
    "        self.distilbert = DistilBertModel.from_pretrained('distilbert-base-uncased')\n",
    "        self.pre_classifier = nn.Linear(self.distilbert.config.dim, 256)\n",
    "        self.dropout = nn.Dropout(0.2)\n",
    "        self.classifier1 = nn.Linear(256, 64)\n",
    "        self.classifier2 = nn.Linear(64, 3)\n",
    "\n",
    "    def forward(self, input_ids, attention_mask=None, labels=None):\n",
    "        distilbert_output = self.distilbert(input_ids=input_ids, attention_mask=attention_mask)\n",
    "        hidden_state = distilbert_output[0]\n",
    "        out = hidden_state[:, 0]\n",
    "        out = self.pre_classifier(out)\n",
    "        out = nn.ReLU()(out)\n",
    "        out = self.dropout(out)\n",
    "        out = self.classifier1(out)\n",
    "        out = nn.ReLU()(out)\n",
    "        out = self.dropout(out)\n",
    "        logits = self.classifier2(out)\n",
    "        # alpha = torch.tensor([0.5,0.1,0.4])\n",
    "        # loss = softmax_focal_loss_with_regularization(logits.view(-1, 3), labels.view(-1), self, alpha)\n",
    "        loss = softmax_focal_loss_with_regularization(logits.view(-1, 3), labels.view(-1), self)\n",
    "        \n",
    "        return (loss.mean(), logits)\n",
    "    \n",
    "model = CustomClassificationModel() "
   ]
  },
  {
   "cell_type": "markdown",
   "id": "a1c661ca",
   "metadata": {},
   "source": [
    "# Model Training"
   ]
  },
  {
   "cell_type": "code",
   "execution_count": 12,
   "id": "8bc5b060",
   "metadata": {},
   "outputs": [],
   "source": [
    "# Metrics for evaluation\n",
    "def compute_metrics(p): \n",
    "    preds = np.argmax(p.predictions, axis=1)\n",
    "    macro_f1 = f1_score(p.label_ids,preds,average='macro')\n",
    "    precision = precision_score(p.label_ids,preds,average='macro', zero_division=1)\n",
    "    recall = recall_score(p.label_ids,preds,average='macro')\n",
    "    acc = accuracy_score(p.label_ids,preds)\n",
    "    return {       \n",
    "      'macro_f1' : macro_f1,\n",
    "      'Validation accuracy': acc,\n",
    "      'Precision': precision,\n",
    "      'Recall' : recall,\n",
    "}"
   ]
  },
  {
   "cell_type": "code",
   "execution_count": 13,
   "id": "85f4e1fa",
   "metadata": {},
   "outputs": [],
   "source": [
    "# Huggingface trainer config\n",
    "training_args = TrainingArguments( \n",
    "    output_dir= \"./train\",    \n",
    "    adam_epsilon = 1e-8,\n",
    "    learning_rate = 1e-5,\n",
    "    per_device_train_batch_size = 16, # set to 16 due to memory issue\n",
    "    per_device_eval_batch_size = 128,\n",
    "    gradient_accumulation_steps = 2, # use this to scale batch size without needing more memory\n",
    "    num_train_epochs= 5,\n",
    "    evaluation_strategy = 'steps',\n",
    "    save_strategy = 'steps',\n",
    "    load_best_model_at_end = True,\n",
    "    metric_for_best_model = 'macro_f1',\n",
    "    greater_is_better = True,\n",
    "    seed = 42,\n",
    "    weight_decay=0.0001, # Weight decay for regularization\n",
    "    logging_steps=100,\n",
    "  )"
   ]
  },
  {
   "cell_type": "code",
   "execution_count": 14,
   "id": "70bb677f",
   "metadata": {},
   "outputs": [],
   "source": [
    "# Early stopping to prevent overfitting\n",
    "early_stopping_callback = EarlyStoppingCallback(\n",
    "    early_stopping_patience=3,\n",
    "    early_stopping_threshold=0.01,\n",
    ")\n",
    "\n",
    "# Huggingface Trainer class\n",
    "trainer = Trainer(\n",
    "    model=model,\n",
    "    args=training_args,\n",
    "    train_dataset=train_dataset,\n",
    "    eval_dataset=val_dataset,\n",
    "    compute_metrics=compute_metrics,\n",
    ")"
   ]
  },
  {
   "cell_type": "code",
   "execution_count": 15,
   "id": "e796653b",
   "metadata": {},
   "outputs": [
    {
     "data": {
      "text/html": [
       "\n",
       "    <div>\n",
       "      \n",
       "      <progress value='2480' max='2480' style='width:300px; height:20px; vertical-align: middle;'></progress>\n",
       "      [2480/2480 46:24, Epoch 5/5]\n",
       "    </div>\n",
       "    <table border=\"1\" class=\"dataframe\">\n",
       "  <thead>\n",
       " <tr style=\"text-align: left;\">\n",
       "      <th>Step</th>\n",
       "      <th>Training Loss</th>\n",
       "      <th>Validation Loss</th>\n",
       "      <th>Macro F1</th>\n",
       "      <th>Validation accuracy</th>\n",
       "      <th>Precision</th>\n",
       "      <th>Recall</th>\n",
       "    </tr>\n",
       "  </thead>\n",
       "  <tbody>\n",
       "    <tr>\n",
       "      <td>100</td>\n",
       "      <td>171.131700</td>\n",
       "      <td>168.488617</td>\n",
       "      <td>0.290938</td>\n",
       "      <td>0.774332</td>\n",
       "      <td>0.924777</td>\n",
       "      <td>0.333333</td>\n",
       "    </tr>\n",
       "    <tr>\n",
       "      <td>200</td>\n",
       "      <td>166.309300</td>\n",
       "      <td>164.172577</td>\n",
       "      <td>0.560674</td>\n",
       "      <td>0.870651</td>\n",
       "      <td>0.863320</td>\n",
       "      <td>0.600564</td>\n",
       "    </tr>\n",
       "    <tr>\n",
       "      <td>300</td>\n",
       "      <td>162.374200</td>\n",
       "      <td>160.577286</td>\n",
       "      <td>0.587221</td>\n",
       "      <td>0.892587</td>\n",
       "      <td>0.907948</td>\n",
       "      <td>0.600601</td>\n",
       "    </tr>\n",
       "    <tr>\n",
       "      <td>400</td>\n",
       "      <td>158.908300</td>\n",
       "      <td>157.280746</td>\n",
       "      <td>0.598668</td>\n",
       "      <td>0.900656</td>\n",
       "      <td>0.911400</td>\n",
       "      <td>0.620928</td>\n",
       "    </tr>\n",
       "    <tr>\n",
       "      <td>500</td>\n",
       "      <td>155.735800</td>\n",
       "      <td>154.198288</td>\n",
       "      <td>0.606441</td>\n",
       "      <td>0.906959</td>\n",
       "      <td>0.915768</td>\n",
       "      <td>0.633049</td>\n",
       "    </tr>\n",
       "    <tr>\n",
       "      <td>600</td>\n",
       "      <td>152.665800</td>\n",
       "      <td>151.176941</td>\n",
       "      <td>0.597539</td>\n",
       "      <td>0.899899</td>\n",
       "      <td>0.917994</td>\n",
       "      <td>0.611196</td>\n",
       "    </tr>\n",
       "    <tr>\n",
       "      <td>700</td>\n",
       "      <td>149.849800</td>\n",
       "      <td>148.538162</td>\n",
       "      <td>0.651772</td>\n",
       "      <td>0.908976</td>\n",
       "      <td>0.807893</td>\n",
       "      <td>0.650546</td>\n",
       "    </tr>\n",
       "    <tr>\n",
       "      <td>800</td>\n",
       "      <td>147.328800</td>\n",
       "      <td>146.158340</td>\n",
       "      <td>0.621840</td>\n",
       "      <td>0.901916</td>\n",
       "      <td>0.765734</td>\n",
       "      <td>0.614609</td>\n",
       "    </tr>\n",
       "    <tr>\n",
       "      <td>900</td>\n",
       "      <td>145.095100</td>\n",
       "      <td>144.001373</td>\n",
       "      <td>0.658724</td>\n",
       "      <td>0.914271</td>\n",
       "      <td>0.817292</td>\n",
       "      <td>0.664976</td>\n",
       "    </tr>\n",
       "    <tr>\n",
       "      <td>1000</td>\n",
       "      <td>142.908500</td>\n",
       "      <td>141.851532</td>\n",
       "      <td>0.644597</td>\n",
       "      <td>0.911498</td>\n",
       "      <td>0.818163</td>\n",
       "      <td>0.646856</td>\n",
       "    </tr>\n",
       "    <tr>\n",
       "      <td>1100</td>\n",
       "      <td>140.891400</td>\n",
       "      <td>139.885300</td>\n",
       "      <td>0.646017</td>\n",
       "      <td>0.908724</td>\n",
       "      <td>0.810299</td>\n",
       "      <td>0.640517</td>\n",
       "    </tr>\n",
       "    <tr>\n",
       "      <td>1200</td>\n",
       "      <td>139.008100</td>\n",
       "      <td>138.152405</td>\n",
       "      <td>0.736855</td>\n",
       "      <td>0.913767</td>\n",
       "      <td>0.767108</td>\n",
       "      <td>0.727629</td>\n",
       "    </tr>\n",
       "    <tr>\n",
       "      <td>1300</td>\n",
       "      <td>137.325200</td>\n",
       "      <td>136.504471</td>\n",
       "      <td>0.683306</td>\n",
       "      <td>0.909228</td>\n",
       "      <td>0.746032</td>\n",
       "      <td>0.669464</td>\n",
       "    </tr>\n",
       "    <tr>\n",
       "      <td>1400</td>\n",
       "      <td>135.741000</td>\n",
       "      <td>134.996857</td>\n",
       "      <td>0.681978</td>\n",
       "      <td>0.909985</td>\n",
       "      <td>0.753965</td>\n",
       "      <td>0.670231</td>\n",
       "    </tr>\n",
       "    <tr>\n",
       "      <td>1500</td>\n",
       "      <td>134.306300</td>\n",
       "      <td>133.626663</td>\n",
       "      <td>0.678738</td>\n",
       "      <td>0.910237</td>\n",
       "      <td>0.769537</td>\n",
       "      <td>0.662550</td>\n",
       "    </tr>\n",
       "    <tr>\n",
       "      <td>1600</td>\n",
       "      <td>132.983000</td>\n",
       "      <td>132.390320</td>\n",
       "      <td>0.690392</td>\n",
       "      <td>0.912002</td>\n",
       "      <td>0.762413</td>\n",
       "      <td>0.681020</td>\n",
       "    </tr>\n",
       "    <tr>\n",
       "      <td>1700</td>\n",
       "      <td>131.837300</td>\n",
       "      <td>131.296097</td>\n",
       "      <td>0.738212</td>\n",
       "      <td>0.910489</td>\n",
       "      <td>0.769881</td>\n",
       "      <td>0.719406</td>\n",
       "    </tr>\n",
       "    <tr>\n",
       "      <td>1800</td>\n",
       "      <td>130.797200</td>\n",
       "      <td>130.356400</td>\n",
       "      <td>0.711493</td>\n",
       "      <td>0.912758</td>\n",
       "      <td>0.770790</td>\n",
       "      <td>0.694938</td>\n",
       "    </tr>\n",
       "    <tr>\n",
       "      <td>1900</td>\n",
       "      <td>129.947000</td>\n",
       "      <td>129.585861</td>\n",
       "      <td>0.699668</td>\n",
       "      <td>0.912758</td>\n",
       "      <td>0.773753</td>\n",
       "      <td>0.683377</td>\n",
       "    </tr>\n",
       "    <tr>\n",
       "      <td>2000</td>\n",
       "      <td>129.249900</td>\n",
       "      <td>128.944489</td>\n",
       "      <td>0.754699</td>\n",
       "      <td>0.917297</td>\n",
       "      <td>0.779594</td>\n",
       "      <td>0.745142</td>\n",
       "    </tr>\n",
       "    <tr>\n",
       "      <td>2100</td>\n",
       "      <td>128.630400</td>\n",
       "      <td>128.368378</td>\n",
       "      <td>0.734328</td>\n",
       "      <td>0.913263</td>\n",
       "      <td>0.781960</td>\n",
       "      <td>0.711783</td>\n",
       "    </tr>\n",
       "    <tr>\n",
       "      <td>2200</td>\n",
       "      <td>128.142600</td>\n",
       "      <td>127.958603</td>\n",
       "      <td>0.744273</td>\n",
       "      <td>0.915028</td>\n",
       "      <td>0.780411</td>\n",
       "      <td>0.728073</td>\n",
       "    </tr>\n",
       "    <tr>\n",
       "      <td>2300</td>\n",
       "      <td>127.772500</td>\n",
       "      <td>127.648300</td>\n",
       "      <td>0.720980</td>\n",
       "      <td>0.913263</td>\n",
       "      <td>0.772763</td>\n",
       "      <td>0.701056</td>\n",
       "    </tr>\n",
       "    <tr>\n",
       "      <td>2400</td>\n",
       "      <td>127.558400</td>\n",
       "      <td>127.493721</td>\n",
       "      <td>0.721132</td>\n",
       "      <td>0.914019</td>\n",
       "      <td>0.775318</td>\n",
       "      <td>0.703171</td>\n",
       "    </tr>\n",
       "  </tbody>\n",
       "</table><p>"
      ],
      "text/plain": [
       "<IPython.core.display.HTML object>"
      ]
     },
     "metadata": {},
     "output_type": "display_data"
    }
   ],
   "source": [
    "# Train the model\n",
    "training_logs = trainer.train()"
   ]
  },
  {
   "cell_type": "code",
   "execution_count": 16,
   "id": "b2bb7a12",
   "metadata": {},
   "outputs": [],
   "source": [
    "# Save the model\n",
    "torch.save(trainer.model.state_dict(), \"./my-model.pth\")"
   ]
  },
  {
   "cell_type": "code",
   "execution_count": 17,
   "id": "cb8f0dfc",
   "metadata": {},
   "outputs": [
    {
     "data": {
      "image/png": "[encoded data removed]",
      "text/plain": [
       "<Figure size 640x480 with 1 Axes>"
      ]
     },
     "metadata": {},
     "output_type": "display_data"
    }
   ],
   "source": [
    "# Compute training and validation curve\n",
    "train_loss_list = [log['loss'] for log in trainer.state.log_history if 'loss' in log]\n",
    "eval_loss_list = [log['eval_loss'] for log in trainer.state.log_history if 'eval_loss' in log]\n",
    "step_list = [log['step'] for log in trainer.state.log_history if 'loss' in log]\n",
    "plt.plot(step_list, train_loss_list, label='Training loss')\n",
    "plt.plot(step_list, eval_loss_list, label='Validation loss')\n",
    "plt.xlabel('Logging steps')\n",
    "plt.ylabel('Loss')\n",
    "plt.title('Training and Validation Curves')\n",
    "plt.show()"
   ]
  },
  {
   "cell_type": "code",
   "execution_count": 18,
   "id": "f0a86967",
   "metadata": {},
   "outputs": [
    {
     "data": {
      "text/html": [],
      "text/plain": [
       "<IPython.core.display.HTML object>"
      ]
     },
     "metadata": {},
     "output_type": "display_data"
    },
    {
     "name": "stdout",
     "output_type": "stream",
     "text": [
      "Test Accuracy: 0.9138591890256204\n"
     ]
    }
   ],
   "source": [
    "# Compute test accuracy\n",
    "test_predictions = trainer.predict(test_dataset)\n",
    "test_predicted_labels = test_predictions.predictions.argmax(axis=1)\n",
    "test_labels = test['class'].to_list()\n",
    "test_accuracy = accuracy_score(test_labels, test_predicted_labels)\n",
    "\n",
    "print('Test Accuracy:', test_accuracy)"
   ]
  },
  {
   "cell_type": "code",
   "execution_count": 19,
   "id": "05611765",
   "metadata": {},
   "outputs": [
    {
     "data": {
      "text/html": [],
      "text/plain": [
       "<IPython.core.display.HTML object>"
      ]
     },
     "metadata": {},
     "output_type": "display_data"
    },
    {
     "name": "stdout",
     "output_type": "stream",
     "text": [
      "Successful example:\n",
      "RT @JimNorton: There is a GIFT SHOP at the 9-11 museum? And they charge admission. It's a mass grave you fucking cunts. What a disgrace.\n",
      "Expected prediction: 1\n",
      "Actual prediction: 1\n",
      "\n",
      "Unsuccessful example:\n",
      "RT @obeyyreggie: stfu hoe RT &#8220;@tedddydgaf: \"I'm proud to be African American\" \n",
      "- Proud African American\n",
      "\n",
      "\"I'm proud to be white\" \n",
      "- Racist\n",
      "&#8230;\n",
      "Expected prediction: 0\n",
      "Actual prediction: 1\n"
     ]
    }
   ],
   "source": [
    "label_map = {i:v for i, v in enumerate(x_labels)}\n",
    "example_dataset = ClassificationDataset(\n",
    "    test[\"tweet\"].to_list()[:100],\n",
    "    test[\"class\"].to_list()[:100]\n",
    ")\n",
    "\n",
    "def find_unsuccessful(pred, target):\n",
    "    for i, (a, b) in enumerate(zip(pred, target)):\n",
    "        if a != b:\n",
    "            return i\n",
    "        \n",
    "def find_successful(pred, target):\n",
    "    for i, (a, b) in enumerate(zip(pred, target)):\n",
    "        if a == b:\n",
    "            return i\n",
    "\n",
    "example_predictions = trainer.predict(example_dataset)\n",
    "example_predicted_labels = example_predictions.predictions.argmax(axis=1)\n",
    "example_predicted_labels = [list(label_map.keys())[value] for value in example_predicted_labels]\n",
    "example_labels = test[\"class\"].to_list()[:100]\n",
    "\n",
    "unsuccessful_index = find_unsuccessful(example_predicted_labels, example_labels)\n",
    "successful_index = find_successful(example_predicted_labels, example_labels)\n",
    "\n",
    "print(\"Successful example:\")\n",
    "print(test[\"tweet\"].to_list()[successful_index])\n",
    "print(\"Expected prediction:\", example_labels[successful_index])\n",
    "print(\"Actual prediction:\", example_predicted_labels[successful_index])\n",
    "print(\"\")\n",
    "print(\"Unsuccessful example:\")\n",
    "print(test[\"tweet\"].to_list()[unsuccessful_index])\n",
    "print(\"Expected prediction:\", example_labels[unsuccessful_index])\n",
    "print(\"Actual prediction:\", example_predicted_labels[unsuccessful_index])"
   ]
  },
  {
   "cell_type": "code",
   "execution_count": 20,
   "id": "87a8ed12",
   "metadata": {},
   "outputs": [
    {
     "name": "stdout",
     "output_type": "stream",
     "text": [
      "                    precision    recall  f1-score   support\n",
      "\n",
      "       hate_speech       0.50      0.30      0.38       286\n",
      "offensive_language       0.94      0.96      0.95      3838\n",
      "           neither       0.87      0.92      0.89       833\n",
      "\n",
      "          accuracy                           0.91      4957\n",
      "         macro avg       0.77      0.73      0.74      4957\n",
      "      weighted avg       0.90      0.91      0.91      4957\n",
      "\n"
     ]
    }
   ],
   "source": [
    "print(classification_report(test_labels, test_predicted_labels, target_names=x_labels, zero_division=0))\n"
   ]
  },
  {
   "cell_type": "code",
   "execution_count": 21,
   "id": "a8c96c1e",
   "metadata": {},
   "outputs": [
    {
     "data": {
      "image/png": "[encoded data removed]",
      "text/plain": [
       "<Figure size 640x480 with 2 Axes>"
      ]
     },
     "metadata": {},
     "output_type": "display_data"
    }
   ],
   "source": [
    "cm = ConfusionMatrixDisplay(confusion_matrix(test_labels, test_predicted_labels, normalize ='true'), display_labels=x_labels)\n",
    "cm.plot()\n",
    "plt.xlabel('Predicted Labels')\n",
    "plt.ylabel('True Labels')\n",
    "plt.title('Confusion Matrix')\n",
    "plt.show()"
   ]
  }
 ],
 "metadata": {
  "kernelspec": {
   "display_name": "Python 3 (ipykernel)",
   "language": "python",
   "name": "python3"
  },
  "language_info": {
   "codemirror_mode": {
    "name": "ipython",
    "version": 3
   },
   "file_extension": ".py",
   "mimetype": "text/x-python",
   "name": "python",
   "nbconvert_exporter": "python",
   "pygments_lexer": "ipython3",
   "version": "3.11.5"
  },
  "varInspector": {
   "cols": {
    "lenName": 16,
    "lenType": 16,
    "lenVar": 40
   },
   "kernels_config": {
    "python": {
     "delete_cmd_postfix": "",
     "delete_cmd_prefix": "del ",
     "library": "var_list.py",
     "varRefreshCmd": "print(var_dic_list())"
    },
    "r": {
     "delete_cmd_postfix": ") ",
     "delete_cmd_prefix": "rm(",
     "library": "var_list.r",
     "varRefreshCmd": "cat(var_dic_list()) "
    }
   },
   "types_to_exclude": [
    "module",
    "function",
    "builtin_function_or_method",
    "instance",
    "_Feature"
   ],
   "window_display": false
  }
 },
 "nbformat": 4,
 "nbformat_minor": 5
}
